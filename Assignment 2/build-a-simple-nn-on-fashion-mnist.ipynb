{
 "cells": [
  {
   "cell_type": "code",
   "execution_count": 1,
   "id": "b8436fa9",
   "metadata": {
    "execution": {
     "iopub.execute_input": "2025-10-15T19:23:59.133182Z",
     "iopub.status.busy": "2025-10-15T19:23:59.132979Z",
     "iopub.status.idle": "2025-10-15T19:24:12.749712Z",
     "shell.execute_reply": "2025-10-15T19:24:12.748756Z"
    },
    "papermill": {
     "duration": 13.621435,
     "end_time": "2025-10-15T19:24:12.751137",
     "exception": false,
     "start_time": "2025-10-15T19:23:59.129702",
     "status": "completed"
    },
    "tags": []
   },
   "outputs": [
    {
     "name": "stderr",
     "output_type": "stream",
     "text": [
      "\r",
      "  0%|          | 0.00/26.4M [00:00<?, ?B/s]"
     ]
    },
    {
     "name": "stderr",
     "output_type": "stream",
     "text": [
      "\r",
      "  0%|          | 32.8k/26.4M [00:00<01:24, 311kB/s]"
     ]
    },
    {
     "name": "stderr",
     "output_type": "stream",
     "text": [
      "\r",
      "  0%|          | 65.5k/26.4M [00:00<01:26, 306kB/s]"
     ]
    },
    {
     "name": "stderr",
     "output_type": "stream",
     "text": [
      "\r",
      "  0%|          | 131k/26.4M [00:00<00:59, 443kB/s] "
     ]
    },
    {
     "name": "stderr",
     "output_type": "stream",
     "text": [
      "\r",
      "  1%|          | 229k/26.4M [00:00<00:41, 626kB/s]"
     ]
    },
    {
     "name": "stderr",
     "output_type": "stream",
     "text": [
      "\r",
      "  2%|▏         | 459k/26.4M [00:00<00:22, 1.16MB/s]"
     ]
    },
    {
     "name": "stderr",
     "output_type": "stream",
     "text": [
      "\r",
      "  3%|▎         | 918k/26.4M [00:00<00:11, 2.21MB/s]"
     ]
    },
    {
     "name": "stderr",
     "output_type": "stream",
     "text": [
      "\r",
      "  7%|▋         | 1.84M/26.4M [00:00<00:05, 4.25MB/s]"
     ]
    },
    {
     "name": "stderr",
     "output_type": "stream",
     "text": [
      "\r",
      " 14%|█▍        | 3.67M/26.4M [00:00<00:02, 8.28MB/s]"
     ]
    },
    {
     "name": "stderr",
     "output_type": "stream",
     "text": [
      "\r",
      " 28%|██▊       | 7.27M/26.4M [00:00<00:01, 15.7MB/s]"
     ]
    },
    {
     "name": "stderr",
     "output_type": "stream",
     "text": [
      "\r",
      " 39%|███▉      | 10.4M/26.4M [00:01<00:00, 20.0MB/s]"
     ]
    },
    {
     "name": "stderr",
     "output_type": "stream",
     "text": [
      "\r",
      " 55%|█████▍    | 14.5M/26.4M [00:01<00:00, 24.8MB/s]"
     ]
    },
    {
     "name": "stderr",
     "output_type": "stream",
     "text": [
      "\r",
      " 70%|███████   | 18.5M/26.4M [00:01<00:00, 28.5MB/s]"
     ]
    },
    {
     "name": "stderr",
     "output_type": "stream",
     "text": [
      "\r",
      " 84%|████████▍ | 22.3M/26.4M [00:01<00:00, 30.2MB/s]"
     ]
    },
    {
     "name": "stderr",
     "output_type": "stream",
     "text": [
      "\r",
      "100%|█████████▉| 26.4M/26.4M [00:01<00:00, 32.1MB/s]"
     ]
    },
    {
     "name": "stderr",
     "output_type": "stream",
     "text": [
      "\r",
      "100%|██████████| 26.4M/26.4M [00:01<00:00, 17.2MB/s]"
     ]
    },
    {
     "name": "stderr",
     "output_type": "stream",
     "text": [
      "\n"
     ]
    },
    {
     "name": "stderr",
     "output_type": "stream",
     "text": [
      "\r",
      "  0%|          | 0.00/29.5k [00:00<?, ?B/s]"
     ]
    },
    {
     "name": "stderr",
     "output_type": "stream",
     "text": [
      "\r",
      "100%|██████████| 29.5k/29.5k [00:00<00:00, 272kB/s]"
     ]
    },
    {
     "name": "stderr",
     "output_type": "stream",
     "text": [
      "\r",
      "100%|██████████| 29.5k/29.5k [00:00<00:00, 269kB/s]"
     ]
    },
    {
     "name": "stderr",
     "output_type": "stream",
     "text": [
      "\n"
     ]
    },
    {
     "name": "stderr",
     "output_type": "stream",
     "text": [
      "\r",
      "  0%|          | 0.00/4.42M [00:00<?, ?B/s]"
     ]
    },
    {
     "name": "stderr",
     "output_type": "stream",
     "text": [
      "\r",
      "  1%|          | 32.8k/4.42M [00:00<00:14, 304kB/s]"
     ]
    },
    {
     "name": "stderr",
     "output_type": "stream",
     "text": [
      "\r",
      "  1%|▏         | 65.5k/4.42M [00:00<00:14, 302kB/s]"
     ]
    },
    {
     "name": "stderr",
     "output_type": "stream",
     "text": [
      "\r",
      "  3%|▎         | 131k/4.42M [00:00<00:09, 435kB/s] "
     ]
    },
    {
     "name": "stderr",
     "output_type": "stream",
     "text": [
      "\r",
      "  5%|▌         | 229k/4.42M [00:00<00:06, 614kB/s]"
     ]
    },
    {
     "name": "stderr",
     "output_type": "stream",
     "text": [
      "\r",
      " 10%|█         | 459k/4.42M [00:00<00:03, 1.15MB/s]"
     ]
    },
    {
     "name": "stderr",
     "output_type": "stream",
     "text": [
      "\r",
      " 16%|█▌        | 688k/4.42M [00:00<00:02, 1.47MB/s]"
     ]
    },
    {
     "name": "stderr",
     "output_type": "stream",
     "text": [
      "\r",
      " 29%|██▉       | 1.28M/4.42M [00:00<00:01, 2.76MB/s]"
     ]
    },
    {
     "name": "stderr",
     "output_type": "stream",
     "text": [
      "\r",
      " 57%|█████▋    | 2.52M/4.42M [00:00<00:00, 5.51MB/s]"
     ]
    },
    {
     "name": "stderr",
     "output_type": "stream",
     "text": [
      "\r",
      "100%|██████████| 4.42M/4.42M [00:00<00:00, 5.04MB/s]"
     ]
    },
    {
     "name": "stderr",
     "output_type": "stream",
     "text": [
      "\n"
     ]
    },
    {
     "name": "stderr",
     "output_type": "stream",
     "text": [
      "\r",
      "  0%|          | 0.00/5.15k [00:00<?, ?B/s]"
     ]
    },
    {
     "name": "stderr",
     "output_type": "stream",
     "text": [
      "\r",
      "100%|██████████| 5.15k/5.15k [00:00<00:00, 25.8MB/s]"
     ]
    },
    {
     "name": "stderr",
     "output_type": "stream",
     "text": [
      "\n"
     ]
    }
   ],
   "source": [
    "import torch\n",
    "import torchvision\n",
    "import torchvision.transforms as transforms\n",
    "\n",
    "# 1. Define transformation\n",
    "transform = transforms.Compose([\n",
    "transforms.ToTensor(),                 # Convert PIL Image to Tensor (C x H x W) and scale [0, 255] to [0, 1]\n",
    "])\n",
    "\n",
    "# 2. Download and load training set\n",
    "train_dataset = torchvision.datasets.FashionMNIST( root='./data', train=True, transform=transform, download=True)\n",
    "\n",
    "# 3. Download and load test set\n",
    "test_dataset = torchvision.datasets.FashionMNIST(root='./data',  train=False, transform=transform, download=True )\n",
    "\n",
    "# 4. DataLoader\n",
    "train_loader = torch.utils.data.DataLoader( train_dataset, batch_size=64,      # number of samples per mini-batch\n",
    "    shuffle=True        # randomize order each epoch\n",
    ")\n",
    "\n",
    "test_loader = torch.utils.data.DataLoader(\n",
    "    test_dataset,\n",
    "    batch_size=64,\n",
    "    shuffle=False       # no need to shuffle test data\n",
    ")\n"
   ]
  },
  {
   "cell_type": "code",
   "execution_count": 2,
   "id": "beb16e4b",
   "metadata": {
    "execution": {
     "iopub.execute_input": "2025-10-15T19:24:12.759659Z",
     "iopub.status.busy": "2025-10-15T19:24:12.759067Z",
     "iopub.status.idle": "2025-10-15T19:24:12.769699Z",
     "shell.execute_reply": "2025-10-15T19:24:12.768967Z"
    },
    "papermill": {
     "duration": 0.015827,
     "end_time": "2025-10-15T19:24:12.770827",
     "exception": false,
     "start_time": "2025-10-15T19:24:12.755000",
     "status": "completed"
    },
    "tags": []
   },
   "outputs": [],
   "source": [
    "import torch.nn as nn\n",
    "\n",
    "class FashionNet(nn.Module):\n",
    "    def __init__(self):\n",
    "        super(FashionNet, self).__init__()\n",
    "        \n",
    "        self.fc1 = nn.Linear(28*28, 256)  \n",
    "        self.fc2 = nn.Linear(256, 128)    \n",
    "        self.fc3 = nn.Linear(128, 10)     \n",
    "        \n",
    "        self.relu = nn.ReLU()             \n",
    "\n",
    "    def forward(self, x):\n",
    "        x = x.view(-1, 28*28)       # flatten image (batch_size, 1, 28, 28)  to (batch_size, 784)\n",
    "        x = self.relu(self.fc1(x))  \n",
    "        x = self.relu(self.fc2(x)) \n",
    "        x = self.fc3(x)             \n",
    "        return x\n",
    "\n",
    "net = FashionNet()\n"
   ]
  },
  {
   "cell_type": "code",
   "execution_count": 3,
   "id": "e836420a",
   "metadata": {
    "execution": {
     "iopub.execute_input": "2025-10-15T19:24:12.778900Z",
     "iopub.status.busy": "2025-10-15T19:24:12.778398Z",
     "iopub.status.idle": "2025-10-15T19:24:12.782007Z",
     "shell.execute_reply": "2025-10-15T19:24:12.781432Z"
    },
    "papermill": {
     "duration": 0.008241,
     "end_time": "2025-10-15T19:24:12.783043",
     "exception": false,
     "start_time": "2025-10-15T19:24:12.774802",
     "status": "completed"
    },
    "tags": []
   },
   "outputs": [],
   "source": [
    "import torch.optim as optim\n",
    "\n",
    "# Cross-entropy \n",
    "criterion = nn.CrossEntropyLoss()\n",
    "\n",
    "# Adam optimizer with a learning rate of 0.001.\n",
    "optimizer = optim.Adam(net.parameters(), lr=0.001)\n"
   ]
  },
  {
   "cell_type": "code",
   "execution_count": null,
   "id": "c592ac38",
   "metadata": {
    "execution": {
     "iopub.execute_input": "2025-10-15T19:20:24.035097Z",
     "iopub.status.busy": "2025-10-15T19:20:24.034866Z",
     "iopub.status.idle": "2025-10-15T19:21:50.686322Z",
     "shell.execute_reply": "2025-10-15T19:21:50.685630Z",
     "shell.execute_reply.started": "2025-10-15T19:20:24.035077Z"
    },
    "papermill": {
     "duration": null,
     "end_time": null,
     "exception": false,
     "start_time": "2025-10-15T19:24:12.786336",
     "status": "running"
    },
    "tags": []
   },
   "outputs": [],
   "source": [
    "epochs = 10\n",
    "\n",
    "for epoch in range(epochs):\n",
    "    net.train()    \n",
    "    running_loss = 0.0\n",
    "\n",
    "    for x, y in train_loader:\n",
    "        # flatten inputs\n",
    "        x = x.view(-1, 28*28)\n",
    "\n",
    "        # forward pass\n",
    "        outputs = net(x)\n",
    "\n",
    "        # compute loss\n",
    "        loss = criterion(outputs, y)\n",
    "\n",
    "      \n",
    "        optimizer.zero_grad()\n",
    "\n",
    "        # Backward pass\n",
    "        loss.backward()\n",
    "\n",
    "        # update weight\n",
    "        optimizer.step()\n",
    "\n",
    "        running_loss += loss.item()\n",
    "\n",
    "    print(f\"epoch [{epoch+1}/{epochs}] - loss: {running_loss/len(train_loader):.4f}\")\n"
   ]
  },
  {
   "cell_type": "code",
   "execution_count": null,
   "id": "02748e4b",
   "metadata": {
    "execution": {
     "iopub.execute_input": "2025-10-15T19:21:50.687228Z",
     "iopub.status.busy": "2025-10-15T19:21:50.687023Z",
     "iopub.status.idle": "2025-10-15T19:21:51.774064Z",
     "shell.execute_reply": "2025-10-15T19:21:51.773372Z",
     "shell.execute_reply.started": "2025-10-15T19:21:50.687212Z"
    },
    "papermill": {
     "duration": null,
     "end_time": null,
     "exception": null,
     "start_time": null,
     "status": "pending"
    },
    "tags": []
   },
   "outputs": [],
   "source": [
    "from sklearn.metrics import confusion_matrix\n",
    "import numpy as np\n",
    "\n",
    "net.eval()\n",
    "correct = 0\n",
    "total = 0\n",
    "all_preds = []\n",
    "all_labels = []\n",
    "\n",
    "with torch.no_grad():\n",
    "    for x, y in test_loader:\n",
    "        x = x.view(-1, 28*28)\n",
    "        outputs = net(x)\n",
    "        preds = torch.argmax(outputs, dim=1)\n",
    "        \n",
    "        correct += (preds == y).sum().item()\n",
    "        total += y.size(0)\n",
    "        \n",
    "        all_preds.extend(preds.cpu().numpy())\n",
    "        all_labels.extend(y.cpu().numpy())\n",
    "\n",
    "accuracy = correct / total\n",
    "print(f\"Test Accuracy: {accuracy:.4f}\")\n",
    "\n",
    "# Confusion matrix\n",
    "cm = confusion_matrix(all_labels, all_preds)\n",
    "print(\"Confusion Matrix:\\n\", cm)\n"
   ]
  },
  {
   "cell_type": "code",
   "execution_count": null,
   "id": "38ef0dff",
   "metadata": {
    "execution": {
     "iopub.execute_input": "2025-10-15T19:21:51.774987Z",
     "iopub.status.busy": "2025-10-15T19:21:51.774751Z",
     "iopub.status.idle": "2025-10-15T19:21:52.119697Z",
     "shell.execute_reply": "2025-10-15T19:21:52.119058Z",
     "shell.execute_reply.started": "2025-10-15T19:21:51.774969Z"
    },
    "papermill": {
     "duration": null,
     "end_time": null,
     "exception": null,
     "start_time": null,
     "status": "pending"
    },
    "tags": []
   },
   "outputs": [],
   "source": [
    "import seaborn as sns\n",
    "import matplotlib.pyplot as plt\n",
    "\n",
    "plt.figure(figsize=(10,8))\n",
    "sns.heatmap(cm, annot=True, fmt='d', cmap='Blues',xticklabels=train_dataset.classes, yticklabels=train_dataset.classes)\n",
    "plt.xlabel('Predicted')\n",
    "plt.ylabel('True')\n",
    "plt.title('Confusion Matrix')\n",
    "plt.show()\n"
   ]
  },
  {
   "cell_type": "code",
   "execution_count": null,
   "id": "c72adbc5",
   "metadata": {
    "execution": {
     "iopub.execute_input": "2025-10-15T19:21:52.120851Z",
     "iopub.status.busy": "2025-10-15T19:21:52.120536Z",
     "iopub.status.idle": "2025-10-15T19:21:52.601085Z",
     "shell.execute_reply": "2025-10-15T19:21:52.600405Z",
     "shell.execute_reply.started": "2025-10-15T19:21:52.120833Z"
    },
    "papermill": {
     "duration": null,
     "end_time": null,
     "exception": null,
     "start_time": null,
     "status": "pending"
    },
    "tags": []
   },
   "outputs": [],
   "source": [
    "classes = train_dataset.classes\n",
    "\n",
    "def show_predictions():\n",
    "    dataiter = iter(test_loader)\n",
    "    images, labels = next(dataiter)\n",
    "    outputs = net(images.view(-1, 28*28))\n",
    "    preds = torch.argmax(outputs, dim=1)\n",
    "\n",
    "    fig, axes = plt.subplots(3, 3, figsize=(8,8))\n",
    "    for i, ax in enumerate(axes.flat):\n",
    "        ax.imshow(images[i][0], cmap='gray')\n",
    "        ax.set_title(f\"Pred: {classes[preds[i]]}\\nTrue: {classes[labels[i]]}\")\n",
    "        ax.axis('off')\n",
    "\n",
    "show_predictions()\n"
   ]
  },
  {
   "cell_type": "code",
   "execution_count": null,
   "id": "a0fc7507",
   "metadata": {
    "execution": {
     "iopub.execute_input": "2025-10-15T19:21:52.602141Z",
     "iopub.status.busy": "2025-10-15T19:21:52.601816Z",
     "iopub.status.idle": "2025-10-15T19:23:30.059328Z",
     "shell.execute_reply": "2025-10-15T19:23:30.058721Z",
     "shell.execute_reply.started": "2025-10-15T19:21:52.602122Z"
    },
    "papermill": {
     "duration": null,
     "end_time": null,
     "exception": null,
     "start_time": null,
     "status": "pending"
    },
    "tags": []
   },
   "outputs": [],
   "source": [
    "train_losses = []\n",
    "test_accuracies = []\n",
    "\n",
    "for epoch in range(epochs):\n",
    "    # TRAIN\n",
    "    net.train()\n",
    "    running_loss = 0.0\n",
    "    for x, y in train_loader:\n",
    "        x = x.view(-1, 28*28)\n",
    "        outputs = net(x)\n",
    "        loss = criterion(outputs, y)\n",
    "        optimizer.zero_grad()\n",
    "        loss.backward()\n",
    "        optimizer.step()\n",
    "        running_loss += loss.item()\n",
    "    train_losses.append(running_loss/len(train_loader))\n",
    "\n",
    "    # TEST\n",
    "    net.eval()\n",
    "    correct = 0\n",
    "    total = 0\n",
    "    with torch.no_grad():\n",
    "        for x, y in test_loader:\n",
    "            x = x.view(-1, 28*28)\n",
    "            outputs = net(x)\n",
    "            preds = torch.argmax(outputs, dim=1)\n",
    "            correct += (preds == y).sum().item()\n",
    "            total += y.size(0)\n",
    "    acc = correct/total\n",
    "    test_accuracies.append(acc)\n",
    "\n",
    "    print(f\"Epoch [{epoch+1}/{epochs}] - Loss: {train_losses[-1]:.4f}, Test Acc: {acc:.4f}\")\n",
    "\n",
    "# PLOT\n",
    "plt.figure()\n",
    "plt.plot(train_losses, label='Train Loss')\n",
    "plt.plot(test_accuracies, label='Test Accuracy')\n",
    "plt.xlabel('Epoch')\n",
    "plt.legend()\n",
    "plt.show()\n"
   ]
  },
  {
   "cell_type": "markdown",
   "id": "273c9f4e",
   "metadata": {
    "papermill": {
     "duration": null,
     "end_time": null,
     "exception": null,
     "start_time": null,
     "status": "pending"
    },
    "tags": []
   },
   "source": [
    "Conclusion:\n",
    "The fully connected neural network with two hidden layers (256 and 128 neurons) was trained on the Fashion-MNIST dataset for 10 epochs using the Adam optimizer and CrossEntropyLoss. The training loss steadily decreased from 0.5232 in the first epoch to 0.2296 in the last epoch.\n",
    "\n",
    "The test accuracy stayed around 88–89%, with the best accuracy reaching 0.8920 at epoch 6. The confusion matrix showed that most misclassifications happened between similar clothing types such as Shirt and T-shirt. Overall, the model performed well and met the target accuracy."
   ]
  }
 ],
 "metadata": {
  "kaggle": {
   "accelerator": "nvidiaTeslaT4",
   "dataSources": [],
   "dockerImageVersionId": 31154,
   "isGpuEnabled": true,
   "isInternetEnabled": true,
   "language": "python",
   "sourceType": "notebook"
  },
  "kernelspec": {
   "display_name": "Python 3",
   "language": "python",
   "name": "python3"
  },
  "language_info": {
   "codemirror_mode": {
    "name": "ipython",
    "version": 3
   },
   "file_extension": ".py",
   "mimetype": "text/x-python",
   "name": "python",
   "nbconvert_exporter": "python",
   "pygments_lexer": "ipython3",
   "version": "3.11.13"
  },
  "papermill": {
   "default_parameters": {},
   "duration": null,
   "end_time": null,
   "environment_variables": {},
   "exception": null,
   "input_path": "__notebook__.ipynb",
   "output_path": "__notebook__.ipynb",
   "parameters": {},
   "start_time": "2025-10-15T19:23:55.597649",
   "version": "2.6.0"
  }
 },
 "nbformat": 4,
 "nbformat_minor": 5
}